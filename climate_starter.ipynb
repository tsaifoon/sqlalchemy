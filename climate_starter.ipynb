{
 "cells": [
  {
   "cell_type": "code",
   "execution_count": 2,
   "metadata": {
    "collapsed": true
   },
   "outputs": [],
   "source": [
    "%matplotlib inline\n",
    "from matplotlib import style\n",
    "style.use('fivethirtyeight')\n",
    "import matplotlib.pyplot as plt"
   ]
  },
  {
   "cell_type": "code",
   "execution_count": 3,
   "metadata": {
    "collapsed": true
   },
   "outputs": [],
   "source": [
    "import numpy as np\n",
    "import pandas as pd"
   ]
  },
  {
   "cell_type": "code",
   "execution_count": 4,
   "metadata": {
    "collapsed": true
   },
   "outputs": [],
   "source": [
    "import datetime as dt"
   ]
  },
  {
   "cell_type": "markdown",
   "metadata": {},
   "source": [
    "# Reflect Tables into SQLAlchemy ORM"
   ]
  },
  {
   "cell_type": "code",
   "execution_count": 5,
   "metadata": {
    "collapsed": true
   },
   "outputs": [],
   "source": [
    "# Python SQL toolkit and Object Relational Mapper\n",
    "import sqlalchemy\n",
    "from sqlalchemy.ext.automap import automap_base\n",
    "from sqlalchemy.orm import Session\n",
    "from sqlalchemy import create_engine, func, inspect"
   ]
  },
  {
   "cell_type": "code",
   "execution_count": 6,
   "metadata": {
    "collapsed": true
   },
   "outputs": [],
   "source": [
    "engine = create_engine(\"sqlite:///Resources/hawaii.sqlite\")"
   ]
  },
  {
   "cell_type": "code",
   "execution_count": 7,
   "metadata": {
    "collapsed": true
   },
   "outputs": [],
   "source": [
    "# reflect an existing database into a new model\n",
    "Base = automap_base()\n",
    "# reflect the tables\n",
    "Base.prepare(engine, reflect=True)"
   ]
  },
  {
   "cell_type": "code",
   "execution_count": 8,
   "metadata": {},
   "outputs": [
    {
     "data": {
      "text/plain": [
       "['measurement', 'station']"
      ]
     },
     "execution_count": 8,
     "metadata": {},
     "output_type": "execute_result"
    }
   ],
   "source": [
    "# We can view all of the classes that automap found\n",
    "Base.classes.keys()"
   ]
  },
  {
   "cell_type": "code",
   "execution_count": 9,
   "metadata": {
    "collapsed": true
   },
   "outputs": [],
   "source": [
    "# Save references to each table\n",
    "Measurement = Base.classes.measurement\n",
    "Station = Base.classes.station"
   ]
  },
  {
   "cell_type": "code",
   "execution_count": 10,
   "metadata": {
    "collapsed": true
   },
   "outputs": [],
   "source": [
    "# Create our session (link) from Python to the DB\n",
    "session = Session(engine)"
   ]
  },
  {
   "cell_type": "code",
   "execution_count": 11,
   "metadata": {},
   "outputs": [
    {
     "name": "stdout",
     "output_type": "stream",
     "text": [
      "id INTEGER\n",
      "station TEXT\n",
      "date TEXT\n",
      "prcp FLOAT\n",
      "tobs FLOAT\n"
     ]
    }
   ],
   "source": [
    "inspector = inspect(engine)\n",
    "# Get a list of column names and types\n",
    "columns = inspector.get_columns('measurement')\n",
    "for c in columns:\n",
    "    print(c['name'], c[\"type\"])"
   ]
  },
  {
   "cell_type": "markdown",
   "metadata": {},
   "source": [
    "# Exploratory Climate Analysis"
   ]
  },
  {
   "cell_type": "code",
   "execution_count": 30,
   "metadata": {},
   "outputs": [
    {
     "data": {
      "text/plain": [
       "<matplotlib.legend.Legend at 0x2ac78932d68>"
      ]
     },
     "execution_count": 30,
     "metadata": {},
     "output_type": "execute_result"
    },
    {
     "data": {
      "image/png": "[encoded data removed]",
      "text/plain": [
       "<Figure size 432x288 with 1 Axes>"
      ]
     },
     "metadata": {
      "needs_background": "light"
     },
     "output_type": "display_data"
    }
   ],
   "source": [
    "# Design a query to retrieve the last 12 months of precipitation data and plot the results\n",
    "import datetime as dt\n",
    "sel = [Measurement.date,\n",
    "      Measurement.prcp\n",
    "      ]\n",
    "\n",
    "#Calculate the date 1 year ago from the last data point in the database\n",
    "cli_latest_date = session.query(Measurement.date).order_by(Measurement.date.desc()).first()\n",
    "\n",
    "# Perform a query to retrieve the data and precipitation scores\n",
    "last_twe_prec = session.query(Measurement.date,Measurement.prcp).\\\n",
    "     filter(Measurement.date > (dt.date(2017,8,23) - dt.timedelta(days = 365))).\\\n",
    "     order_by(Measurement.date).all()\n",
    "\n",
    "# Save the query results as a Pandas DataFrame and set the index to the date column          \n",
    "measure_df = pd.DataFrame(last_twe_prec, columns = [\"date\",\"precipitation\"])\n",
    "measure_df.set_index('date', inplace=True)\n",
    "\n",
    "# Sort the dataframe by date\n",
    "sort_m_df = measure_df.sort_values(['date'])\n",
    "measure_df.head(10)\n",
    "\n",
    "# Use Pandas Plotting with Matplotlib to plot the data\n",
    "plt.plot(sort_m_df)\n",
    "plt.xlabel(\"date\")\n",
    "plt.legend([\"precipitation\"])"
   ]
  },
  {
   "cell_type": "markdown",
   "metadata": {},
   "source": [
    "![precipitation](Images/precipitation.png)"
   ]
  },
  {
   "cell_type": "code",
   "execution_count": 13,
   "metadata": {},
   "outputs": [
    {
     "data": {
      "text/html": [
       "<div>\n",
       "<style scoped>\n",
       "    .dataframe tbody tr th:only-of-type {\n",
       "        vertical-align: middle;\n",
       "    }\n",
       "\n",
       "    .dataframe tbody tr th {\n",
       "        vertical-align: top;\n",
       "    }\n",
       "\n",
       "    .dataframe thead th {\n",
       "        text-align: right;\n",
       "    }\n",
       "</style>\n",
       "<table border=\"1\" class=\"dataframe\">\n",
       "  <thead>\n",
       "    <tr style=\"text-align: right;\">\n",
       "      <th></th>\n",
       "      <th>precipitation</th>\n",
       "    </tr>\n",
       "  </thead>\n",
       "  <tbody>\n",
       "    <tr>\n",
       "      <th>count</th>\n",
       "      <td>2015.000000</td>\n",
       "    </tr>\n",
       "    <tr>\n",
       "      <th>mean</th>\n",
       "      <td>0.176462</td>\n",
       "    </tr>\n",
       "    <tr>\n",
       "      <th>std</th>\n",
       "      <td>0.460288</td>\n",
       "    </tr>\n",
       "    <tr>\n",
       "      <th>min</th>\n",
       "      <td>0.000000</td>\n",
       "    </tr>\n",
       "    <tr>\n",
       "      <th>25%</th>\n",
       "      <td>0.000000</td>\n",
       "    </tr>\n",
       "    <tr>\n",
       "      <th>50%</th>\n",
       "      <td>0.020000</td>\n",
       "    </tr>\n",
       "    <tr>\n",
       "      <th>75%</th>\n",
       "      <td>0.130000</td>\n",
       "    </tr>\n",
       "    <tr>\n",
       "      <th>max</th>\n",
       "      <td>6.700000</td>\n",
       "    </tr>\n",
       "  </tbody>\n",
       "</table>\n",
       "</div>"
      ],
      "text/plain": [
       "       precipitation\n",
       "count    2015.000000\n",
       "mean        0.176462\n",
       "std         0.460288\n",
       "min         0.000000\n",
       "25%         0.000000\n",
       "50%         0.020000\n",
       "75%         0.130000\n",
       "max         6.700000"
      ]
     },
     "execution_count": 13,
     "metadata": {},
     "output_type": "execute_result"
    }
   ],
   "source": [
    "# Use Pandas to calcualte the summary statistics for the precipitation data\n",
    "measure_df.describe()"
   ]
  },
  {
   "cell_type": "markdown",
   "metadata": {},
   "source": [
    "![describe](Images/describe.png)"
   ]
  },
  {
   "cell_type": "code",
   "execution_count": 14,
   "metadata": {},
   "outputs": [
    {
     "name": "stdout",
     "output_type": "stream",
     "text": [
      "id INTEGER\n",
      "station TEXT\n",
      "name TEXT\n",
      "latitude FLOAT\n",
      "longitude FLOAT\n",
      "elevation FLOAT\n"
     ]
    }
   ],
   "source": [
    "columns = inspector.get_columns('station')\n",
    "for c in columns:\n",
    "    print(c['name'], c[\"type\"])"
   ]
  },
  {
   "cell_type": "code",
   "execution_count": 15,
   "metadata": {},
   "outputs": [
    {
     "data": {
      "text/plain": [
       "[(19550)]"
      ]
     },
     "execution_count": 15,
     "metadata": {},
     "output_type": "execute_result"
    }
   ],
   "source": [
    "# Design a query to show how many stations are available in this dataset?\n",
    "num_stations = session.query(func.count(Measurement.station)).all()\n",
    "num_stations"
   ]
  },
  {
   "cell_type": "code",
   "execution_count": 16,
   "metadata": {},
   "outputs": [
    {
     "data": {
      "text/plain": [
       "[('USC00519281', 2772),\n",
       " ('USC00519397', 2724),\n",
       " ('USC00513117', 2709),\n",
       " ('USC00519523', 2669),\n",
       " ('USC00516128', 2612),\n",
       " ('USC00514830', 2202),\n",
       " ('USC00511918', 1979),\n",
       " ('USC00517948', 1372),\n",
       " ('USC00518838', 511)]"
      ]
     },
     "execution_count": 16,
     "metadata": {},
     "output_type": "execute_result"
    }
   ],
   "source": [
    "# What are the most active stations? (i.e. what stations have the most rows)?\n",
    "# List the stations and the counts in descending order.\n",
    "stations_sel = [Measurement.station,\n",
    "                func.count(Measurement.station)\n",
    "               ]\n",
    "#groupby station and count\n",
    "grp_stations = session.query(*stations_sel).group_by(Measurement.station).order_by(func.count(Measurement.station).desc()).all()\n",
    "\n",
    "grp_stations"
   ]
  },
  {
   "cell_type": "code",
   "execution_count": 17,
   "metadata": {},
   "outputs": [
    {
     "data": {
      "text/plain": [
       "('USC00519281', 71.66378066378067)"
      ]
     },
     "execution_count": 17,
     "metadata": {},
     "output_type": "execute_result"
    }
   ],
   "source": [
    "# Using the station id from the previous query, calculate the lowest temperature recorded, \n",
    "# highest temperature recorded, and average temperature most active station?\n",
    "\n",
    "#lowest temperature query\n",
    "low_temp = session.query(Measurement.station,Measurement.tobs).order_by(Measurement.tobs).first()\n",
    "\n",
    "#highest temperature query\n",
    "high_temp = session.query(Measurement.station,Measurement.tobs).order_by(Measurement.tobs.desc()).first()\n",
    "\n",
    "#average temp most active station (USC00519281)\n",
    "avg_most_act_station = session.query(Measurement.station, \n",
    "                                     func.avg(Measurement.tobs)).group_by(Measurement.station).order_by(func.count(Measurement.tobs).desc()).first()\n",
    "avg_most_act_station"
   ]
  },
  {
   "cell_type": "code",
   "execution_count": 18,
   "metadata": {},
   "outputs": [],
   "source": [
    "# Choose the station with the highest number of temperature observations.\n",
    "#USC00519281\n",
    "# Query the last 12 months of temperature observation data for this station and plot the results as a histogram\n",
    "last_twe = session.query(Measurement.station,\n",
    "             Measurement.date,\n",
    "             Measurement.tobs).filter(Measurement.date > (dt.date(2017,8,23) - dt.timedelta(days = 365))).filter(Measurement.station == \"USC00519281\").all()"
   ]
  },
  {
   "cell_type": "code",
   "execution_count": 19,
   "metadata": {},
   "outputs": [],
   "source": [
    "last_twe_date = [x[1] for x in last_twe]\n",
    "last_twe_temp = [int(x[2]) for x in last_twe]\n"
   ]
  },
  {
   "cell_type": "code",
   "execution_count": 29,
   "metadata": {},
   "outputs": [
    {
     "data": {
      "text/plain": [
       "<matplotlib.legend.Legend at 0x2ac7a24ab00>"
      ]
     },
     "execution_count": 29,
     "metadata": {},
     "output_type": "execute_result"
    },
    {
     "data": {
      "image/png": "[encoded data removed]",
      "text/plain": [
       "<Figure size 432x288 with 1 Axes>"
      ]
     },
     "metadata": {
      "needs_background": "light"
     },
     "output_type": "display_data"
    }
   ],
   "source": [
    "plt.hist(last_twe_temp)\n",
    "plt.ylabel(\"Frequency\")\n",
    "plt.legend([\"tobs\"])"
   ]
  },
  {
   "cell_type": "markdown",
   "metadata": {},
   "source": [
    "![precipitation](Images/station-histogram.png)"
   ]
  },
  {
   "cell_type": "code",
   "execution_count": 21,
   "metadata": {},
   "outputs": [
    {
     "name": "stdout",
     "output_type": "stream",
     "text": [
      "[(62.0, 69.57142857142857, 74.0)]\n"
     ]
    }
   ],
   "source": [
    "# This function called `calc_temps` will accept start date and end date in the format '%Y-%m-%d' \n",
    "# and return the minimum, average, and maximum temperatures for that range of dates\n",
    "def calc_temps(start_date, end_date):\n",
    "    \"\"\"TMIN, TAVG, and TMAX for a list of dates.\n",
    "    \n",
    "    Args:\n",
    "        start_date (string): A date string in the format %Y-%m-%d\n",
    "        end_date (string): A date string in the format %Y-%m-%d\n",
    "        \n",
    "    Returns:\n",
    "        TMIN, TAVE, and TMAX\n",
    "    \"\"\"\n",
    "    \n",
    "    return session.query(func.min(Measurement.tobs), func.avg(Measurement.tobs), func.max(Measurement.tobs)).\\\n",
    "        filter(Measurement.date >= start_date).filter(Measurement.date <= end_date).all()\n",
    "\n",
    "# function usage example\n",
    "print(calc_temps('2012-02-28', '2012-03-05'))"
   ]
  },
  {
   "cell_type": "code",
   "execution_count": 22,
   "metadata": {},
   "outputs": [
    {
     "data": {
      "text/plain": [
       "[(58.0, 74.59058295964125, 87.0)]"
      ]
     },
     "execution_count": 22,
     "metadata": {},
     "output_type": "execute_result"
    }
   ],
   "source": [
    "# Use your previous function `calc_temps` to calculate the tmin, tavg, and tmax \n",
    "# for your trip using the previous year's data for those same dates.\n",
    "lastyear_calc = calc_temps('2016-08-23','2017-08-23')\n",
    "lastyear_calc"
   ]
  },
  {
   "cell_type": "code",
   "execution_count": 23,
   "metadata": {},
   "outputs": [
    {
     "data": {
      "image/png": "[encoded data removed]",
      "text/plain": [
       "<Figure size 432x288 with 1 Axes>"
      ]
     },
     "metadata": {
      "needs_background": "light"
     },
     "output_type": "display_data"
    }
   ],
   "source": [
    "# Plot the results from your previous query as a bar chart. \n",
    "# Use \"Trip Avg Temp\" as your Title\n",
    "# Use the average temperature for the y value\n",
    "# Use the peak-to-peak (tmax-tmin) value as the y error bar (yerr)\n",
    "\n",
    "fig, ax = plt.subplots()\n",
    "\n",
    "x = range(len(lastyear_calc))\n",
    "ax.boxplot(lastyear_calc, patch_artist=True)\n",
    "ax.set_title('Trip Avg Temp')\n",
    "fig.tight_layout()\n",
    "plt.show()\n"
   ]
  },
  {
   "cell_type": "code",
   "execution_count": 31,
   "metadata": {},
   "outputs": [],
   "source": [
    "# Calculate the rainfall per weather station for your trip dates using the previous year's matching dates.\n",
    "# Sort this in descending order by precipitation amount and list the station, name, latitude, longitude, and elevation\n",
    "r_per_stat = session.query(Station.station,\n",
    "                           Station.name,\n",
    "                           Station.latitude,\n",
    "                           Station.longitude,\n",
    "                           Station.elevation,\n",
    "                           Measurement.prcp\n",
    "                          ).filter(Measurement.station == Station.station).filter(Measurement.date > (dt.date(2017,8,23) - dt.timedelta(days = 365))).order_by(Measurement.prcp.desc()).all()"
   ]
  },
  {
   "cell_type": "markdown",
   "metadata": {},
   "source": [
    "## Optional Challenge Assignment"
   ]
  },
  {
   "cell_type": "code",
   "execution_count": 25,
   "metadata": {},
   "outputs": [
    {
     "data": {
      "text/plain": [
       "[(62.0, 69.15384615384616, 77.0)]"
      ]
     },
     "execution_count": 25,
     "metadata": {},
     "output_type": "execute_result"
    }
   ],
   "source": [
    "# Create a query that will calculate the daily normals \n",
    "# (i.e. the averages for tmin, tmax, and tavg for all historic data matching a specific month and day)\n",
    "\n",
    "def daily_normals(date):\n",
    "    \"\"\"Daily Normals.\n",
    "    \n",
    "    Args:\n",
    "        date (str): A date string in the format '%m-%d'\n",
    "        \n",
    "    Returns:\n",
    "        A list of tuples containing the daily normals, tmin, tavg, and tmax\n",
    "    \n",
    "    \"\"\"\n",
    "    \n",
    "    sel = [func.min(Measurement.tobs), func.avg(Measurement.tobs), func.max(Measurement.tobs)]\n",
    "    return session.query(*sel).filter(func.strftime(\"%m-%d\", Measurement.date) == date).all()\n",
    "    \n",
    "daily_normals(\"01-01\")"
   ]
  },
  {
   "cell_type": "code",
   "execution_count": 159,
   "metadata": {},
   "outputs": [
    {
     "data": {
      "text/plain": [
       "['01-01',\n",
       " '01-02',\n",
       " '01-03',\n",
       " '01-04',\n",
       " '01-05',\n",
       " '01-06',\n",
       " '01-07',\n",
       " '01-08',\n",
       " '01-09',\n",
       " '01-10',\n",
       " '01-11',\n",
       " '01-12',\n",
       " '01-13',\n",
       " '01-14',\n",
       " '01-15',\n",
       " '01-16',\n",
       " '01-17',\n",
       " '01-18',\n",
       " '01-19',\n",
       " '01-20',\n",
       " '01-21',\n",
       " '01-22',\n",
       " '01-23',\n",
       " '01-24',\n",
       " '01-25',\n",
       " '01-26',\n",
       " '01-27',\n",
       " '01-28',\n",
       " '01-29',\n",
       " '01-30',\n",
       " '01-31',\n",
       " '02-01',\n",
       " '02-02',\n",
       " '02-03',\n",
       " '02-04',\n",
       " '02-05',\n",
       " '02-06',\n",
       " '02-07',\n",
       " '02-08',\n",
       " '02-09',\n",
       " '02-10',\n",
       " '02-11',\n",
       " '02-12',\n",
       " '02-13',\n",
       " '02-14',\n",
       " '02-15',\n",
       " '02-16',\n",
       " '02-17',\n",
       " '02-18',\n",
       " '02-19',\n",
       " '02-20',\n",
       " '02-21',\n",
       " '02-22',\n",
       " '02-23',\n",
       " '02-24',\n",
       " '02-25',\n",
       " '02-26',\n",
       " '02-27',\n",
       " '02-28',\n",
       " '03-01',\n",
       " '03-02',\n",
       " '03-03',\n",
       " '03-04',\n",
       " '03-05',\n",
       " '03-06',\n",
       " '03-07',\n",
       " '03-08',\n",
       " '03-09',\n",
       " '03-10',\n",
       " '03-11',\n",
       " '03-12',\n",
       " '03-13',\n",
       " '03-14',\n",
       " '03-15',\n",
       " '03-16',\n",
       " '03-17',\n",
       " '03-18',\n",
       " '03-19',\n",
       " '03-20',\n",
       " '03-21',\n",
       " '03-22',\n",
       " '03-23',\n",
       " '03-24',\n",
       " '03-25',\n",
       " '03-26',\n",
       " '03-27',\n",
       " '03-28',\n",
       " '03-29',\n",
       " '03-30',\n",
       " '03-31',\n",
       " '04-01',\n",
       " '04-02',\n",
       " '04-03',\n",
       " '04-04',\n",
       " '04-05',\n",
       " '04-06',\n",
       " '04-07',\n",
       " '04-08',\n",
       " '04-09',\n",
       " '04-10',\n",
       " '04-11',\n",
       " '04-12',\n",
       " '04-13',\n",
       " '04-14',\n",
       " '04-15',\n",
       " '04-16',\n",
       " '04-17',\n",
       " '04-18',\n",
       " '04-19',\n",
       " '04-20',\n",
       " '04-21',\n",
       " '04-22',\n",
       " '04-23',\n",
       " '04-24',\n",
       " '04-25',\n",
       " '04-26',\n",
       " '04-27',\n",
       " '04-28',\n",
       " '04-29',\n",
       " '04-30',\n",
       " '05-01',\n",
       " '05-02',\n",
       " '05-03',\n",
       " '05-04',\n",
       " '05-05',\n",
       " '05-06',\n",
       " '05-07',\n",
       " '05-08',\n",
       " '05-09',\n",
       " '05-10',\n",
       " '05-11',\n",
       " '05-12',\n",
       " '05-13',\n",
       " '05-14',\n",
       " '05-15',\n",
       " '05-16',\n",
       " '05-17',\n",
       " '05-18',\n",
       " '05-19',\n",
       " '05-20',\n",
       " '05-21',\n",
       " '05-22',\n",
       " '05-23',\n",
       " '05-24',\n",
       " '05-25',\n",
       " '05-26',\n",
       " '05-27',\n",
       " '05-28',\n",
       " '05-29',\n",
       " '05-30',\n",
       " '05-31',\n",
       " '06-01',\n",
       " '06-02',\n",
       " '06-03',\n",
       " '06-04',\n",
       " '06-05',\n",
       " '06-06',\n",
       " '06-07',\n",
       " '06-08',\n",
       " '06-09',\n",
       " '06-10',\n",
       " '06-11',\n",
       " '06-12',\n",
       " '06-13',\n",
       " '06-14',\n",
       " '06-15',\n",
       " '06-16',\n",
       " '06-17',\n",
       " '06-18',\n",
       " '06-19',\n",
       " '06-20',\n",
       " '06-21',\n",
       " '06-22',\n",
       " '06-23',\n",
       " '06-24',\n",
       " '06-25',\n",
       " '06-26',\n",
       " '06-27',\n",
       " '06-28',\n",
       " '06-29',\n",
       " '06-30',\n",
       " '07-01',\n",
       " '07-02',\n",
       " '07-03',\n",
       " '07-04',\n",
       " '07-05',\n",
       " '07-06',\n",
       " '07-07',\n",
       " '07-08',\n",
       " '07-09',\n",
       " '07-10',\n",
       " '07-11',\n",
       " '07-12',\n",
       " '07-13',\n",
       " '07-14',\n",
       " '07-15',\n",
       " '07-16',\n",
       " '07-17',\n",
       " '07-18',\n",
       " '07-19',\n",
       " '07-20',\n",
       " '07-21',\n",
       " '07-22',\n",
       " '07-23',\n",
       " '07-24',\n",
       " '07-25',\n",
       " '07-26',\n",
       " '07-27',\n",
       " '07-28',\n",
       " '07-29',\n",
       " '07-30',\n",
       " '07-31',\n",
       " '08-01',\n",
       " '08-02',\n",
       " '08-03',\n",
       " '08-04',\n",
       " '08-05',\n",
       " '08-06',\n",
       " '08-07',\n",
       " '08-08',\n",
       " '08-09',\n",
       " '08-10',\n",
       " '08-11',\n",
       " '08-12',\n",
       " '08-13',\n",
       " '08-14',\n",
       " '08-15',\n",
       " '08-16',\n",
       " '08-17',\n",
       " '08-18',\n",
       " '08-19',\n",
       " '08-20',\n",
       " '08-21',\n",
       " '08-22',\n",
       " '08-23',\n",
       " '08-24',\n",
       " '08-25',\n",
       " '08-26',\n",
       " '08-27',\n",
       " '08-28',\n",
       " '08-29',\n",
       " '08-30',\n",
       " '08-31',\n",
       " '09-01',\n",
       " '09-02',\n",
       " '09-03',\n",
       " '09-04',\n",
       " '09-05',\n",
       " '09-06',\n",
       " '09-07',\n",
       " '09-08',\n",
       " '09-09',\n",
       " '09-10',\n",
       " '09-11',\n",
       " '09-12',\n",
       " '09-13',\n",
       " '09-14',\n",
       " '09-15',\n",
       " '09-16',\n",
       " '09-17',\n",
       " '09-18',\n",
       " '09-19',\n",
       " '09-20',\n",
       " '09-21',\n",
       " '09-22',\n",
       " '09-23',\n",
       " '09-24',\n",
       " '09-25',\n",
       " '09-26',\n",
       " '09-27',\n",
       " '09-28',\n",
       " '09-29',\n",
       " '09-30']"
      ]
     },
     "execution_count": 159,
     "metadata": {},
     "output_type": "execute_result"
    }
   ],
   "source": [
    "# calculate the daily normals for your trip\n",
    "# push each tuple of calculations into a list called `normals`\n",
    "normals_one = daily_normals(\"01-01\")\n",
    "normals_two = daily_normals(\"10-01\")\n",
    "# Set the start and end date of the trip\n",
    "start_d = dt.datetime.strptime( \"01-01-2019\", \"%m-%d-%Y\")\n",
    "end_d = dt.datetime.strptime( \"10-01-2019\", \"%m-%d-%Y\")\n",
    "# Use the start and end date to create a range of dates\n",
    "date_range = [start_d + dt.timedelta(days=x) for x in range(0, (end_d-start_d).days)]\n",
    "date_range\n",
    "# Stip off the year and save a list of %m-%d strings\n",
    "date_range_clean = [date_range[x].strftime(\"%m-%d\") for x in range(0,len(date_range))]\n",
    "# Loop through the list of %m-%d strings and calculate the normals for each date\n",
    "normals_list = []\n",
    "for x in range(0,len(date_range_clean)):\n",
    "    normals_list.extend(daily_normals(date_range_clean[x]))\n",
    "date_range_clean"
   ]
  },
  {
   "cell_type": "code",
   "execution_count": 148,
   "metadata": {},
   "outputs": [
    {
     "data": {
      "text/plain": [
       "(61.0, 71.875, 79.0)"
      ]
     },
     "execution_count": 148,
     "metadata": {},
     "output_type": "execute_result"
    }
   ],
   "source": []
  },
  {
   "cell_type": "code",
   "execution_count": 160,
   "metadata": {},
   "outputs": [
    {
     "data": {
      "text/html": [
       "<div>\n",
       "<style scoped>\n",
       "    .dataframe tbody tr th:only-of-type {\n",
       "        vertical-align: middle;\n",
       "    }\n",
       "\n",
       "    .dataframe tbody tr th {\n",
       "        vertical-align: top;\n",
       "    }\n",
       "\n",
       "    .dataframe thead th {\n",
       "        text-align: right;\n",
       "    }\n",
       "</style>\n",
       "<table border=\"1\" class=\"dataframe\">\n",
       "  <thead>\n",
       "    <tr style=\"text-align: right;\">\n",
       "      <th></th>\n",
       "      <th>tmin</th>\n",
       "      <th>t_avg</th>\n",
       "      <th>tmax</th>\n",
       "    </tr>\n",
       "    <tr>\n",
       "      <th>date</th>\n",
       "      <th></th>\n",
       "      <th></th>\n",
       "      <th></th>\n",
       "    </tr>\n",
       "  </thead>\n",
       "  <tbody>\n",
       "    <tr>\n",
       "      <th>01-01</th>\n",
       "      <td>62.0</td>\n",
       "      <td>69.153846</td>\n",
       "      <td>77.0</td>\n",
       "    </tr>\n",
       "    <tr>\n",
       "      <th>01-02</th>\n",
       "      <td>60.0</td>\n",
       "      <td>69.396226</td>\n",
       "      <td>77.0</td>\n",
       "    </tr>\n",
       "    <tr>\n",
       "      <th>01-03</th>\n",
       "      <td>62.0</td>\n",
       "      <td>68.909091</td>\n",
       "      <td>77.0</td>\n",
       "    </tr>\n",
       "    <tr>\n",
       "      <th>01-04</th>\n",
       "      <td>58.0</td>\n",
       "      <td>70.000000</td>\n",
       "      <td>76.0</td>\n",
       "    </tr>\n",
       "    <tr>\n",
       "      <th>01-05</th>\n",
       "      <td>56.0</td>\n",
       "      <td>67.964286</td>\n",
       "      <td>76.0</td>\n",
       "    </tr>\n",
       "    <tr>\n",
       "      <th>01-06</th>\n",
       "      <td>61.0</td>\n",
       "      <td>68.964912</td>\n",
       "      <td>76.0</td>\n",
       "    </tr>\n",
       "    <tr>\n",
       "      <th>01-07</th>\n",
       "      <td>57.0</td>\n",
       "      <td>68.543860</td>\n",
       "      <td>76.0</td>\n",
       "    </tr>\n",
       "    <tr>\n",
       "      <th>01-08</th>\n",
       "      <td>57.0</td>\n",
       "      <td>67.160714</td>\n",
       "      <td>75.0</td>\n",
       "    </tr>\n",
       "    <tr>\n",
       "      <th>01-09</th>\n",
       "      <td>58.0</td>\n",
       "      <td>67.929825</td>\n",
       "      <td>78.0</td>\n",
       "    </tr>\n",
       "    <tr>\n",
       "      <th>01-10</th>\n",
       "      <td>62.0</td>\n",
       "      <td>69.741379</td>\n",
       "      <td>77.0</td>\n",
       "    </tr>\n",
       "    <tr>\n",
       "      <th>01-11</th>\n",
       "      <td>57.0</td>\n",
       "      <td>67.310345</td>\n",
       "      <td>78.0</td>\n",
       "    </tr>\n",
       "    <tr>\n",
       "      <th>01-12</th>\n",
       "      <td>57.0</td>\n",
       "      <td>67.407407</td>\n",
       "      <td>81.0</td>\n",
       "    </tr>\n",
       "    <tr>\n",
       "      <th>01-13</th>\n",
       "      <td>57.0</td>\n",
       "      <td>67.254545</td>\n",
       "      <td>77.0</td>\n",
       "    </tr>\n",
       "    <tr>\n",
       "      <th>01-14</th>\n",
       "      <td>58.0</td>\n",
       "      <td>69.526316</td>\n",
       "      <td>77.0</td>\n",
       "    </tr>\n",
       "    <tr>\n",
       "      <th>01-15</th>\n",
       "      <td>56.0</td>\n",
       "      <td>69.313725</td>\n",
       "      <td>78.0</td>\n",
       "    </tr>\n",
       "    <tr>\n",
       "      <th>01-16</th>\n",
       "      <td>54.0</td>\n",
       "      <td>68.629630</td>\n",
       "      <td>80.0</td>\n",
       "    </tr>\n",
       "    <tr>\n",
       "      <th>01-17</th>\n",
       "      <td>61.0</td>\n",
       "      <td>69.074074</td>\n",
       "      <td>76.0</td>\n",
       "    </tr>\n",
       "    <tr>\n",
       "      <th>01-18</th>\n",
       "      <td>57.0</td>\n",
       "      <td>68.631579</td>\n",
       "      <td>77.0</td>\n",
       "    </tr>\n",
       "    <tr>\n",
       "      <th>01-19</th>\n",
       "      <td>60.0</td>\n",
       "      <td>68.263158</td>\n",
       "      <td>78.0</td>\n",
       "    </tr>\n",
       "    <tr>\n",
       "      <th>01-20</th>\n",
       "      <td>61.0</td>\n",
       "      <td>68.866667</td>\n",
       "      <td>78.0</td>\n",
       "    </tr>\n",
       "    <tr>\n",
       "      <th>01-21</th>\n",
       "      <td>61.0</td>\n",
       "      <td>70.145455</td>\n",
       "      <td>76.0</td>\n",
       "    </tr>\n",
       "    <tr>\n",
       "      <th>01-22</th>\n",
       "      <td>60.0</td>\n",
       "      <td>69.264151</td>\n",
       "      <td>76.0</td>\n",
       "    </tr>\n",
       "    <tr>\n",
       "      <th>01-23</th>\n",
       "      <td>57.0</td>\n",
       "      <td>69.509091</td>\n",
       "      <td>79.0</td>\n",
       "    </tr>\n",
       "    <tr>\n",
       "      <th>01-24</th>\n",
       "      <td>58.0</td>\n",
       "      <td>68.762712</td>\n",
       "      <td>78.0</td>\n",
       "    </tr>\n",
       "    <tr>\n",
       "      <th>01-25</th>\n",
       "      <td>61.0</td>\n",
       "      <td>67.949153</td>\n",
       "      <td>75.0</td>\n",
       "    </tr>\n",
       "    <tr>\n",
       "      <th>01-26</th>\n",
       "      <td>61.0</td>\n",
       "      <td>70.586207</td>\n",
       "      <td>77.0</td>\n",
       "    </tr>\n",
       "    <tr>\n",
       "      <th>01-27</th>\n",
       "      <td>59.0</td>\n",
       "      <td>68.568966</td>\n",
       "      <td>75.0</td>\n",
       "    </tr>\n",
       "    <tr>\n",
       "      <th>01-28</th>\n",
       "      <td>62.0</td>\n",
       "      <td>69.037037</td>\n",
       "      <td>77.0</td>\n",
       "    </tr>\n",
       "    <tr>\n",
       "      <th>01-29</th>\n",
       "      <td>64.0</td>\n",
       "      <td>69.140000</td>\n",
       "      <td>76.0</td>\n",
       "    </tr>\n",
       "    <tr>\n",
       "      <th>01-30</th>\n",
       "      <td>60.0</td>\n",
       "      <td>67.129630</td>\n",
       "      <td>77.0</td>\n",
       "    </tr>\n",
       "    <tr>\n",
       "      <th>...</th>\n",
       "      <td>...</td>\n",
       "      <td>...</td>\n",
       "      <td>...</td>\n",
       "    </tr>\n",
       "    <tr>\n",
       "      <th>09-01</th>\n",
       "      <td>69.0</td>\n",
       "      <td>77.000000</td>\n",
       "      <td>82.0</td>\n",
       "    </tr>\n",
       "    <tr>\n",
       "      <th>09-02</th>\n",
       "      <td>67.0</td>\n",
       "      <td>76.666667</td>\n",
       "      <td>83.0</td>\n",
       "    </tr>\n",
       "    <tr>\n",
       "      <th>09-03</th>\n",
       "      <td>69.0</td>\n",
       "      <td>76.137255</td>\n",
       "      <td>83.0</td>\n",
       "    </tr>\n",
       "    <tr>\n",
       "      <th>09-04</th>\n",
       "      <td>68.0</td>\n",
       "      <td>76.270833</td>\n",
       "      <td>84.0</td>\n",
       "    </tr>\n",
       "    <tr>\n",
       "      <th>09-05</th>\n",
       "      <td>66.0</td>\n",
       "      <td>75.914894</td>\n",
       "      <td>84.0</td>\n",
       "    </tr>\n",
       "    <tr>\n",
       "      <th>09-06</th>\n",
       "      <td>66.0</td>\n",
       "      <td>74.911111</td>\n",
       "      <td>81.0</td>\n",
       "    </tr>\n",
       "    <tr>\n",
       "      <th>09-07</th>\n",
       "      <td>64.0</td>\n",
       "      <td>75.180000</td>\n",
       "      <td>82.0</td>\n",
       "    </tr>\n",
       "    <tr>\n",
       "      <th>09-08</th>\n",
       "      <td>66.0</td>\n",
       "      <td>76.222222</td>\n",
       "      <td>83.0</td>\n",
       "    </tr>\n",
       "    <tr>\n",
       "      <th>09-09</th>\n",
       "      <td>68.0</td>\n",
       "      <td>76.365385</td>\n",
       "      <td>84.0</td>\n",
       "    </tr>\n",
       "    <tr>\n",
       "      <th>09-10</th>\n",
       "      <td>67.0</td>\n",
       "      <td>76.612245</td>\n",
       "      <td>85.0</td>\n",
       "    </tr>\n",
       "    <tr>\n",
       "      <th>09-11</th>\n",
       "      <td>70.0</td>\n",
       "      <td>76.695652</td>\n",
       "      <td>83.0</td>\n",
       "    </tr>\n",
       "    <tr>\n",
       "      <th>09-12</th>\n",
       "      <td>68.0</td>\n",
       "      <td>75.897959</td>\n",
       "      <td>85.0</td>\n",
       "    </tr>\n",
       "    <tr>\n",
       "      <th>09-13</th>\n",
       "      <td>68.0</td>\n",
       "      <td>75.875000</td>\n",
       "      <td>82.0</td>\n",
       "    </tr>\n",
       "    <tr>\n",
       "      <th>09-14</th>\n",
       "      <td>69.0</td>\n",
       "      <td>75.980769</td>\n",
       "      <td>85.0</td>\n",
       "    </tr>\n",
       "    <tr>\n",
       "      <th>09-15</th>\n",
       "      <td>67.0</td>\n",
       "      <td>76.140000</td>\n",
       "      <td>81.0</td>\n",
       "    </tr>\n",
       "    <tr>\n",
       "      <th>09-16</th>\n",
       "      <td>70.0</td>\n",
       "      <td>77.403846</td>\n",
       "      <td>86.0</td>\n",
       "    </tr>\n",
       "    <tr>\n",
       "      <th>09-17</th>\n",
       "      <td>68.0</td>\n",
       "      <td>76.576923</td>\n",
       "      <td>83.0</td>\n",
       "    </tr>\n",
       "    <tr>\n",
       "      <th>09-18</th>\n",
       "      <td>67.0</td>\n",
       "      <td>75.851064</td>\n",
       "      <td>84.0</td>\n",
       "    </tr>\n",
       "    <tr>\n",
       "      <th>09-19</th>\n",
       "      <td>68.0</td>\n",
       "      <td>76.346939</td>\n",
       "      <td>87.0</td>\n",
       "    </tr>\n",
       "    <tr>\n",
       "      <th>09-20</th>\n",
       "      <td>69.0</td>\n",
       "      <td>76.145833</td>\n",
       "      <td>83.0</td>\n",
       "    </tr>\n",
       "    <tr>\n",
       "      <th>09-21</th>\n",
       "      <td>67.0</td>\n",
       "      <td>76.448980</td>\n",
       "      <td>84.0</td>\n",
       "    </tr>\n",
       "    <tr>\n",
       "      <th>09-22</th>\n",
       "      <td>69.0</td>\n",
       "      <td>76.372549</td>\n",
       "      <td>84.0</td>\n",
       "    </tr>\n",
       "    <tr>\n",
       "      <th>09-23</th>\n",
       "      <td>67.0</td>\n",
       "      <td>75.826923</td>\n",
       "      <td>83.0</td>\n",
       "    </tr>\n",
       "    <tr>\n",
       "      <th>09-24</th>\n",
       "      <td>69.0</td>\n",
       "      <td>77.020000</td>\n",
       "      <td>85.0</td>\n",
       "    </tr>\n",
       "    <tr>\n",
       "      <th>09-25</th>\n",
       "      <td>69.0</td>\n",
       "      <td>76.148936</td>\n",
       "      <td>83.0</td>\n",
       "    </tr>\n",
       "    <tr>\n",
       "      <th>09-26</th>\n",
       "      <td>66.0</td>\n",
       "      <td>75.640000</td>\n",
       "      <td>85.0</td>\n",
       "    </tr>\n",
       "    <tr>\n",
       "      <th>09-27</th>\n",
       "      <td>68.0</td>\n",
       "      <td>75.640000</td>\n",
       "      <td>83.0</td>\n",
       "    </tr>\n",
       "    <tr>\n",
       "      <th>09-28</th>\n",
       "      <td>67.0</td>\n",
       "      <td>76.134615</td>\n",
       "      <td>84.0</td>\n",
       "    </tr>\n",
       "    <tr>\n",
       "      <th>09-29</th>\n",
       "      <td>68.0</td>\n",
       "      <td>75.978723</td>\n",
       "      <td>83.0</td>\n",
       "    </tr>\n",
       "    <tr>\n",
       "      <th>09-30</th>\n",
       "      <td>67.0</td>\n",
       "      <td>75.306122</td>\n",
       "      <td>83.0</td>\n",
       "    </tr>\n",
       "  </tbody>\n",
       "</table>\n",
       "<p>273 rows × 3 columns</p>\n",
       "</div>"
      ],
      "text/plain": [
       "       tmin      t_avg  tmax\n",
       "date                        \n",
       "01-01  62.0  69.153846  77.0\n",
       "01-02  60.0  69.396226  77.0\n",
       "01-03  62.0  68.909091  77.0\n",
       "01-04  58.0  70.000000  76.0\n",
       "01-05  56.0  67.964286  76.0\n",
       "01-06  61.0  68.964912  76.0\n",
       "01-07  57.0  68.543860  76.0\n",
       "01-08  57.0  67.160714  75.0\n",
       "01-09  58.0  67.929825  78.0\n",
       "01-10  62.0  69.741379  77.0\n",
       "01-11  57.0  67.310345  78.0\n",
       "01-12  57.0  67.407407  81.0\n",
       "01-13  57.0  67.254545  77.0\n",
       "01-14  58.0  69.526316  77.0\n",
       "01-15  56.0  69.313725  78.0\n",
       "01-16  54.0  68.629630  80.0\n",
       "01-17  61.0  69.074074  76.0\n",
       "01-18  57.0  68.631579  77.0\n",
       "01-19  60.0  68.263158  78.0\n",
       "01-20  61.0  68.866667  78.0\n",
       "01-21  61.0  70.145455  76.0\n",
       "01-22  60.0  69.264151  76.0\n",
       "01-23  57.0  69.509091  79.0\n",
       "01-24  58.0  68.762712  78.0\n",
       "01-25  61.0  67.949153  75.0\n",
       "01-26  61.0  70.586207  77.0\n",
       "01-27  59.0  68.568966  75.0\n",
       "01-28  62.0  69.037037  77.0\n",
       "01-29  64.0  69.140000  76.0\n",
       "01-30  60.0  67.129630  77.0\n",
       "...     ...        ...   ...\n",
       "09-01  69.0  77.000000  82.0\n",
       "09-02  67.0  76.666667  83.0\n",
       "09-03  69.0  76.137255  83.0\n",
       "09-04  68.0  76.270833  84.0\n",
       "09-05  66.0  75.914894  84.0\n",
       "09-06  66.0  74.911111  81.0\n",
       "09-07  64.0  75.180000  82.0\n",
       "09-08  66.0  76.222222  83.0\n",
       "09-09  68.0  76.365385  84.0\n",
       "09-10  67.0  76.612245  85.0\n",
       "09-11  70.0  76.695652  83.0\n",
       "09-12  68.0  75.897959  85.0\n",
       "09-13  68.0  75.875000  82.0\n",
       "09-14  69.0  75.980769  85.0\n",
       "09-15  67.0  76.140000  81.0\n",
       "09-16  70.0  77.403846  86.0\n",
       "09-17  68.0  76.576923  83.0\n",
       "09-18  67.0  75.851064  84.0\n",
       "09-19  68.0  76.346939  87.0\n",
       "09-20  69.0  76.145833  83.0\n",
       "09-21  67.0  76.448980  84.0\n",
       "09-22  69.0  76.372549  84.0\n",
       "09-23  67.0  75.826923  83.0\n",
       "09-24  69.0  77.020000  85.0\n",
       "09-25  69.0  76.148936  83.0\n",
       "09-26  66.0  75.640000  85.0\n",
       "09-27  68.0  75.640000  83.0\n",
       "09-28  67.0  76.134615  84.0\n",
       "09-29  68.0  75.978723  83.0\n",
       "09-30  67.0  75.306122  83.0\n",
       "\n",
       "[273 rows x 3 columns]"
      ]
     },
     "execution_count": 160,
     "metadata": {},
     "output_type": "execute_result"
    }
   ],
   "source": [
    "# Load the previous query results into a Pandas DataFrame and add the `trip_dates` range as the `date` index\n",
    "normals_df ={}\n",
    "normals_df = pd.DataFrame({\n",
    "                            \"tmin\": [item[0] for item in normals_list],\n",
    "                            \"t_avg\": [item[1] for item in normals_list],\n",
    "                            \"tmax\": [item[2] for item in normals_list]\n",
    "})\n",
    "normals_df[\"date\"] = date_range_clean\n",
    "normals_df.set_index(\"date\")"
   ]
  },
  {
   "cell_type": "code",
   "execution_count": 161,
   "metadata": {},
   "outputs": [
    {
     "data": {
      "text/plain": [
       "<matplotlib.axes._subplots.AxesSubplot at 0x2ac7a93ae48>"
      ]
     },
     "execution_count": 161,
     "metadata": {},
     "output_type": "execute_result"
    },
    {
     "data": {
      "image/png": "[encoded data removed]",
      "text/plain": [
       "<Figure size 432x288 with 1 Axes>"
      ]
     },
     "metadata": {
      "needs_background": "light"
     },
     "output_type": "display_data"
    }
   ],
   "source": [
    "# Plot the daily normals as an area plot with `stacked=False`\n",
    "normals_df.plot(kind='area',stacked=False)"
   ]
  },
  {
   "cell_type": "code",
   "execution_count": null,
   "metadata": {},
   "outputs": [],
   "source": []
  }
 ],
 "metadata": {
  "kernel_info": {
   "name": "python3"
  },
  "kernelspec": {
   "display_name": "Python 3",
   "language": "python",
   "name": "python3"
  },
  "language_info": {
   "codemirror_mode": {
    "name": "ipython",
    "version": 3
   },
   "file_extension": ".py",
   "mimetype": "text/x-python",
   "name": "python",
   "nbconvert_exporter": "python",
   "pygments_lexer": "ipython3",
   "version": "3.7.0"
  },
  "nteract": {
   "version": "0.9.1"
  },
  "varInspector": {
   "cols": {
    "lenName": 16,
    "lenType": 16,
    "lenVar": 40
   },
   "kernels_config": {
    "python": {
     "delete_cmd_postfix": "",
     "delete_cmd_prefix": "del ",
     "library": "var_list.py",
     "varRefreshCmd": "print(var_dic_list())"
    },
    "r": {
     "delete_cmd_postfix": ") ",
     "delete_cmd_prefix": "rm(",
     "library": "var_list.r",
     "varRefreshCmd": "cat(var_dic_list()) "
    }
   },
   "types_to_exclude": [
    "module",
    "function",
    "builtin_function_or_method",
    "instance",
    "_Feature"
   ],
   "window_display": false
  }
 },
 "nbformat": 4,
 "nbformat_minor": 2
}
